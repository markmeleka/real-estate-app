{
 "cells": [
  {
   "cell_type": "markdown",
   "id": "33d9d2b6",
   "metadata": {},
   "source": [
    "# Cleaning data borrowed from a real-estate listing website"
   ]
  },
  {
   "cell_type": "code",
   "execution_count": null,
   "id": "e067946c",
   "metadata": {},
   "outputs": [],
   "source": [
    "import pandas as pd"
   ]
  },
  {
   "cell_type": "code",
   "execution_count": null,
   "id": "721f5dce",
   "metadata": {},
   "outputs": [],
   "source": [
    "DATA_PATH = \"data/\"\n",
    "PATH_TO_APP_MEDIA_ROOT = \"../app/media/\"\n",
    "\n",
    "display_max_output = True\n",
    "if display_max_output:\n",
    "    pd.options.display.max_rows = 999\n",
    "    pd.options.display.max_columns = 999"
   ]
  },
  {
   "cell_type": "code",
   "execution_count": null,
   "id": "e7482971",
   "metadata": {},
   "outputs": [],
   "source": [
    "# This data is from a Canadian real estate listing website: realtor.ca\n",
    "# I'm using this data for private and non-commercial use\n",
    "#   as per realtor.ca's Terms of Use Agreement: https://www.realtor.ca/terms-of-use\n",
    "\n",
    "# To reproduce:\n",
    "# Copy the network request to https://api2.realtor.ca/Listing.svc/PropertySearch_Post\n",
    "# Update the `RecordsPerPage` value to be whatever you want.\n",
    "# Note that this is not an official API.\n",
    "\n",
    "realtor_api_response = pd.read_json(f\"{DATA_PATH}realtor_ca_data.json\", lines=True)\n",
    "realtor_api_response"
   ]
  },
  {
   "cell_type": "code",
   "execution_count": null,
   "id": "0bf25cf3",
   "metadata": {},
   "outputs": [],
   "source": [
    "results = realtor_api_response[\"Results\"].explode(\"Results\")\n",
    "properties = pd.json_normalize(results)\n",
    "properties"
   ]
  },
  {
   "cell_type": "code",
   "execution_count": null,
   "id": "72e5a735",
   "metadata": {},
   "outputs": [],
   "source": [
    "properties.columns"
   ]
  },
  {
   "cell_type": "markdown",
   "id": "2e37d880",
   "metadata": {},
   "source": [
    "## Separate out Address Text\n",
    "Before: '100 Regina St. S. Unit# 100|Waterloo, Ontario N2J4P9'  \n",
    "After: ['100 Regina St. S.', '100', 'Waterloo', 'Ontario', 'N2J4P9', 'Canada']  "
   ]
  },
  {
   "cell_type": "code",
   "execution_count": null,
   "id": "94cff5ec",
   "metadata": {},
   "outputs": [],
   "source": [
    "# Separate out street address\n",
    "split_address_text = (\n",
    "    properties[\"Property.Address.AddressText\"]\n",
    "    .str.split(\"|\")\n",
    ")\n",
    "\n",
    "properties[\"Property.Address.StreetAddress\"] = (\n",
    "    split_address_text\n",
    "    .apply(lambda x: x[0].strip())\n",
    ")"
   ]
  },
  {
   "cell_type": "code",
   "execution_count": null,
   "id": "71e8dd1b",
   "metadata": {},
   "outputs": [],
   "source": [
    "# Separate out city\n",
    "split_city_province = (\n",
    "    split_address_text.apply(lambda x: x[1])\n",
    "    .str.split(\",\")\n",
    ")\n",
    "\n",
    "properties[\"Property.Address.City\"] = (\n",
    "    split_city_province.apply(lambda x: x[0].strip())\n",
    ")"
   ]
  },
  {
   "cell_type": "code",
   "execution_count": null,
   "id": "55f06eb1",
   "metadata": {},
   "outputs": [],
   "source": [
    "# Separate out province\n",
    "split_province_postal_code = (\n",
    "    split_city_province.apply(lambda x: x[1].strip())\n",
    "    .str.split(\" \")\n",
    ")\n",
    "\n",
    "properties[\"Property.Address.Province\"] = (\n",
    "    split_province_postal_code.apply(lambda x: x[0].strip())\n",
    ")"
   ]
  },
  {
   "cell_type": "code",
   "execution_count": null,
   "id": "0ce0410d",
   "metadata": {},
   "outputs": [],
   "source": [
    "# Separate out unit number for street addresses with \"Unit#\"\n",
    "properties[\"Property.Address.UnitNumber\"] = \"\"\n",
    "\n",
    "props_w_unit_num_mask = properties[\"Property.Address.StreetAddress\"].str.contains(\" Unit# \")\n",
    "\n",
    "split_addresses = (\n",
    "    properties[props_w_unit_num_mask][\"Property.Address.StreetAddress\"]\n",
    "    .str.split(\" Unit# \")\n",
    ")\n",
    "\n",
    "properties.loc[\n",
    "    props_w_unit_num_mask,\n",
    "    [\"Property.Address.UnitNumber\"],\n",
    "] = split_addresses.apply(lambda x: x[1].strip())\n",
    "\n",
    "properties.loc[\n",
    "    props_w_unit_num_mask,\n",
    "    [\"Property.Address.StreetAddress\"],\n",
    "] = split_addresses.apply(lambda x: x[0].strip())"
   ]
  },
  {
   "cell_type": "code",
   "execution_count": null,
   "id": "40cb1c42",
   "metadata": {},
   "outputs": [],
   "source": [
    "# Separate out unit number for street addresses with \"#__ -street_address\"\n",
    "props_w_unit_num_mask = properties[\"Property.Address.StreetAddress\"].str[0] == \"#\"\n",
    "\n",
    "split_addresses = (\n",
    "    properties[props_w_unit_num_mask][\"Property.Address.StreetAddress\"]\n",
    "    .str.split(\" -\")\n",
    ")\n",
    "\n",
    "properties.loc[\n",
    "    props_w_unit_num_mask,\n",
    "    [\"Property.Address.UnitNumber\"],\n",
    "] = split_addresses.apply(lambda x: x[0][1:].strip())\n",
    "\n",
    "properties.loc[\n",
    "    props_w_unit_num_mask,\n",
    "    [\"Property.Address.StreetAddress\"],\n",
    "] = split_addresses.apply(lambda x: x[1].strip())"
   ]
  },
  {
   "cell_type": "code",
   "execution_count": null,
   "id": "d91d178a",
   "metadata": {},
   "outputs": [],
   "source": [
    "# Clean up street address strings\n",
    "properties[\"Property.Address.StreetAddress\"] = (\n",
    "    properties[\"Property.Address.StreetAddress\"]\n",
    "    .str.replace(\" +\", \" \")\n",
    "    .str.title()\n",
    ")"
   ]
  },
  {
   "cell_type": "code",
   "execution_count": null,
   "id": "dc8ac02d",
   "metadata": {},
   "outputs": [],
   "source": [
    "# Add Canada as country. Hard-coded because realtor.ca only operates in Canada.\n",
    "properties[\"Property.Address.Country\"] = \"Canada\""
   ]
  },
  {
   "cell_type": "code",
   "execution_count": null,
   "id": "2b82972e",
   "metadata": {},
   "outputs": [],
   "source": [
    "properties.head()"
   ]
  },
  {
   "cell_type": "markdown",
   "id": "887c5ab4",
   "metadata": {},
   "source": [
    "## Clean up other columns"
   ]
  },
  {
   "cell_type": "code",
   "execution_count": null,
   "id": "0aaf85cf",
   "metadata": {},
   "outputs": [],
   "source": [
    "# Get the first photo in high res. It's all we need for now. \n",
    "properties[\"Property.PhotoLink\"] = (\n",
    "    properties[\"Property.Photo\"]\n",
    "    .apply(\n",
    "        lambda x: x[0][\"HighResPath\"]\n",
    "        if isinstance(x, list) and x[0]\n",
    "        else \"\"\n",
    "    )\n",
    ")"
   ]
  },
  {
   "cell_type": "code",
   "execution_count": null,
   "id": "157a1fc2",
   "metadata": {},
   "outputs": [],
   "source": [
    "# Pre-pend realtor website to RelativeDetailsURL\n",
    "properties[\"DetailsURL\"] = (\n",
    "    \"https://realtor.ca\" + properties[\"RelativeDetailsURL\"]\n",
    ")"
   ]
  },
  {
   "cell_type": "code",
   "execution_count": null,
   "id": "08fb3388",
   "metadata": {},
   "outputs": [],
   "source": [
    "properties[\"Property.ParkingType\"] = (\n",
    "    properties[\"Property.Parking\"]\n",
    "    .apply(\n",
    "        lambda x: x[0][\"Name\"]\n",
    "        if isinstance(x, list) and x[0]\n",
    "        else \"\"\n",
    "    )\n",
    ")"
   ]
  },
  {
   "cell_type": "code",
   "execution_count": null,
   "id": "aa061f1a",
   "metadata": {},
   "outputs": [],
   "source": [
    "properties[\"DateAccessed\"] = pd.to_datetime(\"2021-05-12\")"
   ]
  },
  {
   "cell_type": "markdown",
   "id": "773eb2d8",
   "metadata": {},
   "source": [
    "## Export data"
   ]
  },
  {
   "cell_type": "code",
   "execution_count": null,
   "id": "603d114f",
   "metadata": {},
   "outputs": [],
   "source": [
    "cols_of_interest = [\n",
    "    \"Property.Address.StreetAddress\", \"Property.Address.UnitNumber\",\n",
    "    \"Property.Address.City\", \"Property.Address.Province\", \"PostalCode\",\n",
    "    \"Property.Address.Country\",\n",
    "    \"Property.Address.Latitude\", \"Property.Address.Longitude\",\n",
    "    \n",
    "    \"MlsNumber\", \"DateAccessed\", \"Property.PriceUnformattedValue\",\n",
    "    \"DetailsURL\", \"Building.SizeInterior\",\n",
    "    \"Building.Bedrooms\", \"Building.BathroomTotal\",\n",
    "    \"Building.StoriesTotal\", \"Building.UnitTotal\", \n",
    "    \"Land.SizeTotal\", \"Land.SizeFrontage\",\n",
    "    \"Property.PhotoLink\", \n",
    "    \"Property.Type\", \"Building.Type\", \n",
    "    \"Property.OwnershipType\",\n",
    "    \"Property.ParkingType\", \"Property.ParkingSpaceTotal\",\n",
    "    \"PublicRemarks\", \n",
    "    # \"Id\", \"Individual\", \"RelativeDetailsURL\",\n",
    "    # \"StatusId\", \"PhotoChangeDateUTC\", \"HasNewImageUpdate\", \"Distance\",\n",
    "    # \"RelativeURLEn\", \"RelativeURLFr\",\n",
    "    # \"Building.Ammenities\", \"Property.Price\",\n",
    "    # \"Property.Address.PermitShowAddress\", \"Property.Address.DisseminationArea\",\n",
    "    # \"Property.Photo\", \"Property.TypeId\",\n",
    "    # \"Property.AmmenitiesNearBy\", \"Property.ConvertedPrice\",\n",
    "    # \"Property.OwnershipTypeGroupIds\", \"Property.ParkingType\",\n",
    "    # \"Land.AccessType\", \"AlternateURL.VideoLink\",\n",
    "    # \"AlternateURL.PhotoLink\", \"AlternateURL.BrochureLink\",\n",
    "    # \"Property.Address.AddressText\", \"Land.LandscapeFeatures\",\n",
    "    # \"AlternateURL.MapLink\", \"Building.SizeExterior\",\n",
    "    # \"AlternateURL.DetailsLink\", \"AlternateURL.SoundLink\"\n",
    "]\n",
    "\n",
    "properties[cols_of_interest]"
   ]
  },
  {
   "cell_type": "code",
   "execution_count": null,
   "id": "20a9120b",
   "metadata": {},
   "outputs": [],
   "source": [
    "properties[cols_of_interest].to_csv(f\"{DATA_PATH}realtor_ca_cleaned_data.csv\", index=False)"
   ]
  },
  {
   "cell_type": "code",
   "execution_count": null,
   "id": "45a79e15",
   "metadata": {},
   "outputs": [],
   "source": [
    "properties[cols_of_interest].to_csv(\n",
    "    f\"{PATH_TO_APP_MEDIA_ROOT}realtor_ca_cleaned_data.csv\",\n",
    "    index=False,\n",
    ")"
   ]
  },
  {
   "cell_type": "code",
   "execution_count": null,
   "id": "3a064573",
   "metadata": {},
   "outputs": [],
   "source": []
  }
 ],
 "metadata": {
  "kernelspec": {
   "display_name": "Python 3",
   "language": "python",
   "name": "python3"
  },
  "language_info": {
   "codemirror_mode": {
    "name": "ipython",
    "version": 3
   },
   "file_extension": ".py",
   "mimetype": "text/x-python",
   "name": "python",
   "nbconvert_exporter": "python",
   "pygments_lexer": "ipython3",
   "version": "3.8.9"
  }
 },
 "nbformat": 4,
 "nbformat_minor": 5
}
